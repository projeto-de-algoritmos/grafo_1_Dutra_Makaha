{
 "cells": [
  {
   "cell_type": "markdown",
   "metadata": {},
   "source": [
    "# Projeto 1 - Grafos - Lucas Dutra e Rafael Makaha\n",
    "## Contexto\n",
    "Bob is a farmer. He has a large pasture with many sheep. Recently, he has lost some of them due to wolf attacks. He thus decided to place some shepherd dogs in such a way that all his sheep are protected.  \n",
    "\n",
    "The pasture is a rectangle consisting of R × C cells. Each cell is either empty, contains a sheep, a wolf or a dog. Sheep and dogs always stay in place, but wolves can roam freely around the pasture, by repeatedly moving to the left, right, up or down to a neighboring cell. When a wolf enters a cell with a sheep, it consumes it. However, no wolf can enter a cell with a dog.  \n",
    "\n",
    "Initially there are no dogs. Place dogs onto the pasture in such a way that no wolf can reach any sheep, or determine that it is impossible. Note that since you have many dogs, you do not need to minimize their number.  \n",
    "\n",
    "Input  \n",
    "First line contains two integers R (1 ≤ R ≤ 500) and C (1 ≤ C ≤ 500), denoting the number of rows and the numbers of columns respectively.  \n",
    "\n",
    "Each of the following R lines is a string consisting of exactly C characters, representing one row of the pasture. Here, 'S' means a sheep, 'W' a wolf and '.' an empty cell.  \n",
    "\n",
    "Output  \n",
    "If it is impossible to protect all sheep, output a single line with the word \"No\".  \n",
    "\n",
    "Otherwise, output a line with the word \"Yes\". Then print R lines, representing the pasture after placing dogs. Again, 'S' means a sheep, 'W' a wolf, 'D' is a dog and '.' an empty space. You are not allowed to move, remove or add a sheep or a wolf.  \n",
    "\n",
    "If there are multiple solutions, you may print any of them. You don't have to minimize the number of dogs.  \n",
    "\n",
    "Examples:   \n",
    "**Input**  \n",
    "6 6  \n",
    "..S...  \n",
    "..S.W.  \n",
    ".S....  \n",
    "..W...  \n",
    "...W..  \n",
    "......  \n",
    "**Output**  \n",
    "Yes  \n",
    "..SD..  \n",
    "..SDW.  \n",
    ".SD...  \n",
    ".DW...  \n",
    "DD.W..  \n",
    "......  \n",
    "  \n",
    "  \n",
    "**Input**  \n",
    "1 2  \n",
    "SW  \n",
    "**Output**  \n",
    "No  \n",
    "  \n",
    "  \n",
    "Questão disponível em: https://codeforces.com/problemset/problem/948/A  \n",
    "## Resolução proposta  \n",
    "* Primeiro passo a ser considerado é, onde encaixar um grafo na questão? A abordagem utilizada será: cada célula incluída no input será um nó, enquanto as arestas serão as ligações entre os nós com os quatro possíveis outros adjacentes.\n",
    "* Para avaliar vizinhos diretos de um nó, o algoritmo mais correto a ser utilizar é a BFS.\n",
    "* Como não é necessário minimizar o número de cachorros, basta apenas colocá-los em todas as células vazias.\n",
    "* Além da resolução do problema, exibiremos uma visualização gráfica do grafo resultante"
   ]
  },
  {
   "cell_type": "code",
   "execution_count": 15,
   "metadata": {},
   "outputs": [],
   "source": [
    "import networkx as nx\n",
    "import matplotlib.pyplot as plt"
   ]
  },
  {
   "cell_type": "code",
   "execution_count": 16,
   "metadata": {
    "scrolled": true
   },
   "outputs": [
    {
     "name": "stdout",
     "output_type": "stream",
     "text": [
      "3 3 \n",
      "3\n",
      "3\n"
     ]
    }
   ],
   "source": [
    "rows_number, columns_number = input().split()\n",
    "rows_number = int(rows_number)\n",
    "columns_number = int(columns_number)\n",
    "farm = []"
   ]
  },
  {
   "cell_type": "code",
   "execution_count": 17,
   "metadata": {
    "scrolled": true
   },
   "outputs": [
    {
     "name": "stdout",
     "output_type": "stream",
     "text": [
      "1 2 3\n",
      "1 2 3\n",
      "1 2 3\n"
     ]
    }
   ],
   "source": [
    "for i in range(0, rows_number):\n",
    "    farm_row = input()\n",
    "    farm_row = farm_row.split()\n",
    "    farm.append(farm_row)    "
   ]
  }
 ],
 "metadata": {
  "kernelspec": {
   "display_name": "Python 3",
   "language": "python",
   "name": "python3"
  },
  "language_info": {
   "codemirror_mode": {
    "name": "ipython",
    "version": 3
   },
   "file_extension": ".py",
   "mimetype": "text/x-python",
   "name": "python",
   "nbconvert_exporter": "python",
   "pygments_lexer": "ipython3",
   "version": "3.6.8"
  }
 },
 "nbformat": 4,
 "nbformat_minor": 2
}
